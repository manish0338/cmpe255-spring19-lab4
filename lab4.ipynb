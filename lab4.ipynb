{
 "cells": [
  {
   "cell_type": "code",
   "execution_count": 12,
   "metadata": {},
   "outputs": [],
   "source": []
  },
  {
   "cell_type": "code",
   "execution_count": 1,
   "metadata": {},
   "outputs": [
    {
     "name": "stdout",
     "output_type": "stream",
     "text": [
      "Models are being trained ....\n",
      "Training completed ....\n",
      "\n",
      "Computing predictions .....\n",
      "SGDClassifier Accuracy:  0.7794\n",
      "\n",
      "Computing predictions .....\n",
      "KNeighborsClassifier Accuracy:  0.9852\n"
     ]
    }
   ],
   "source": [
    "from mnist import MNIST\n",
    "import random\n",
    "from sklearn.neighbors import KNeighborsClassifier\n",
    "from sklearn.metrics import accuracy_score\n",
    "from sklearn.linear_model import SGDClassifier\n",
    "from sklearn.model_selection import StratifiedKFold\n",
    "import numpy as np\n",
    "\n",
    "mndata = MNIST('images')\n",
    "\n",
    "X_train, y_train = mndata.load_training()\n",
    "\n",
    "labels = []\n",
    "\n",
    "for i in y_train.tolist():\n",
    "    if(i%2==0):\n",
    "        labels.append('Even')\n",
    "    else:\n",
    "        labels.append('Odd')\n",
    "        \n",
    "y_train = labels\n",
    "\n",
    "sgd_clf = SGDClassifier(max_iter=5, tol=-np.infty, random_state=42)\n",
    "knc_clf = KNeighborsClassifier()\n",
    "\n",
    "\n",
    "print(\"Models are being trained ....\")\n",
    "sgd_clf.fit(X_train, y_train)\n",
    "knc_clf.fit(X_train, y_train)\n",
    "\n",
    "print(\"Training completed ....\\n\")\n",
    "\n",
    "X_test, y_test = mndata.load_testing()\n",
    "\n",
    "labels.clear()\n",
    "\n",
    "for i in y_test.tolist():\n",
    "    if(i%2==0):\n",
    "        labels.append('Even')\n",
    "    else:\n",
    "        labels.append('Odd')\n",
    "        \n",
    "y_test = labels\n",
    "\n",
    "print(\"Computing predictions .....\")\n",
    "y_pred_sgd = sgd_clf.predict(X_test)\n",
    "\n",
    "print(\"SGDClassifier Accuracy: \", accuracy_score(y_test, y_pred_sgd))\n",
    "\n",
    "print(\"\\nComputing predictions .....\")\n",
    "y_pred_knc = knc_clf.predict(X_test)\n",
    "\n",
    "print(\"KNeighborsClassifier Accuracy: \", accuracy_score(y_test, y_pred_knc))"
   ]
  },
  {
   "cell_type": "code",
   "execution_count": null,
   "metadata": {},
   "outputs": [],
   "source": []
  },
  {
   "cell_type": "code",
   "execution_count": null,
   "metadata": {},
   "outputs": [],
   "source": []
  }
 ],
 "metadata": {
  "kernelspec": {
   "display_name": "Python 3",
   "language": "python",
   "name": "python3"
  },
  "language_info": {
   "codemirror_mode": {
    "name": "ipython",
    "version": 3
   },
   "file_extension": ".py",
   "mimetype": "text/x-python",
   "name": "python",
   "nbconvert_exporter": "python",
   "pygments_lexer": "ipython3",
   "version": "3.6.7"
  }
 },
 "nbformat": 4,
 "nbformat_minor": 2
}
